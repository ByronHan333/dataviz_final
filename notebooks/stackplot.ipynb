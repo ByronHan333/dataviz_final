{
 "cells": [
  {
   "cell_type": "code",
   "execution_count": 1,
   "metadata": {
    "ExecuteTime": {
     "end_time": "2019-05-17T01:01:21.129867Z",
     "start_time": "2019-05-17T01:01:20.403260Z"
    }
   },
   "outputs": [],
   "source": [
    "import numpy as np\n",
    "import pandas as pd\n",
    "import matplotlib.pyplot as plt"
   ]
  },
  {
   "cell_type": "code",
   "execution_count": 10,
   "metadata": {
    "ExecuteTime": {
     "end_time": "2019-05-17T01:07:10.775775Z",
     "start_time": "2019-05-17T01:07:10.702659Z"
    }
   },
   "outputs": [
    {
     "data": {
      "text/html": [
       "<div>\n",
       "<style scoped>\n",
       "    .dataframe tbody tr th:only-of-type {\n",
       "        vertical-align: middle;\n",
       "    }\n",
       "\n",
       "    .dataframe tbody tr th {\n",
       "        vertical-align: top;\n",
       "    }\n",
       "\n",
       "    .dataframe thead th {\n",
       "        text-align: right;\n",
       "    }\n",
       "</style>\n",
       "<table border=\"1\" class=\"dataframe\">\n",
       "  <thead>\n",
       "    <tr style=\"text-align: right;\">\n",
       "      <th></th>\n",
       "      <th>Activity Period</th>\n",
       "      <th>Operating Airline</th>\n",
       "      <th>Operating Airline IATA Code</th>\n",
       "      <th>Published Airline</th>\n",
       "      <th>Published Airline IATA Code</th>\n",
       "      <th>GEO Summary</th>\n",
       "      <th>GEO Region</th>\n",
       "      <th>Activity Type Code</th>\n",
       "      <th>Price Category Code</th>\n",
       "      <th>Terminal</th>\n",
       "      <th>Boarding Area</th>\n",
       "      <th>Passenger Count</th>\n",
       "    </tr>\n",
       "  </thead>\n",
       "  <tbody>\n",
       "    <tr>\n",
       "      <th>0</th>\n",
       "      <td>201812</td>\n",
       "      <td>ABC Aerolineas S.A. de C.V. dba Interjet</td>\n",
       "      <td>4O</td>\n",
       "      <td>ABC Aerolineas S.A. de C.V. dba Interjet</td>\n",
       "      <td>4O</td>\n",
       "      <td>International</td>\n",
       "      <td>Mexico</td>\n",
       "      <td>Deplaned</td>\n",
       "      <td>Other</td>\n",
       "      <td>International</td>\n",
       "      <td>A</td>\n",
       "      <td>5179</td>\n",
       "    </tr>\n",
       "    <tr>\n",
       "      <th>1</th>\n",
       "      <td>201812</td>\n",
       "      <td>Volaris Airlines</td>\n",
       "      <td>Y4</td>\n",
       "      <td>Volaris Airlines</td>\n",
       "      <td>Y4</td>\n",
       "      <td>International</td>\n",
       "      <td>Mexico</td>\n",
       "      <td>Enplaned</td>\n",
       "      <td>Low Fare</td>\n",
       "      <td>International</td>\n",
       "      <td>A</td>\n",
       "      <td>2791</td>\n",
       "    </tr>\n",
       "    <tr>\n",
       "      <th>2</th>\n",
       "      <td>201812</td>\n",
       "      <td>Volaris Airlines</td>\n",
       "      <td>Y4</td>\n",
       "      <td>Volaris Airlines</td>\n",
       "      <td>Y4</td>\n",
       "      <td>International</td>\n",
       "      <td>Mexico</td>\n",
       "      <td>Deplaned</td>\n",
       "      <td>Low Fare</td>\n",
       "      <td>International</td>\n",
       "      <td>A</td>\n",
       "      <td>2111</td>\n",
       "    </tr>\n",
       "    <tr>\n",
       "      <th>3</th>\n",
       "      <td>201812</td>\n",
       "      <td>Virgin Atlantic</td>\n",
       "      <td>VS</td>\n",
       "      <td>Virgin Atlantic</td>\n",
       "      <td>VS</td>\n",
       "      <td>International</td>\n",
       "      <td>Europe</td>\n",
       "      <td>Enplaned</td>\n",
       "      <td>Other</td>\n",
       "      <td>International</td>\n",
       "      <td>A</td>\n",
       "      <td>11359</td>\n",
       "    </tr>\n",
       "    <tr>\n",
       "      <th>4</th>\n",
       "      <td>201812</td>\n",
       "      <td>Virgin Atlantic</td>\n",
       "      <td>VS</td>\n",
       "      <td>Virgin Atlantic</td>\n",
       "      <td>VS</td>\n",
       "      <td>International</td>\n",
       "      <td>Europe</td>\n",
       "      <td>Deplaned</td>\n",
       "      <td>Other</td>\n",
       "      <td>International</td>\n",
       "      <td>A</td>\n",
       "      <td>10645</td>\n",
       "    </tr>\n",
       "  </tbody>\n",
       "</table>\n",
       "</div>"
      ],
      "text/plain": [
       "   Activity Period                         Operating Airline  \\\n",
       "0           201812  ABC Aerolineas S.A. de C.V. dba Interjet   \n",
       "1           201812                          Volaris Airlines   \n",
       "2           201812                          Volaris Airlines   \n",
       "3           201812                           Virgin Atlantic   \n",
       "4           201812                           Virgin Atlantic   \n",
       "\n",
       "  Operating Airline IATA Code                         Published Airline  \\\n",
       "0                          4O  ABC Aerolineas S.A. de C.V. dba Interjet   \n",
       "1                          Y4                          Volaris Airlines   \n",
       "2                          Y4                          Volaris Airlines   \n",
       "3                          VS                           Virgin Atlantic   \n",
       "4                          VS                           Virgin Atlantic   \n",
       "\n",
       "  Published Airline IATA Code    GEO Summary GEO Region Activity Type Code  \\\n",
       "0                          4O  International     Mexico           Deplaned   \n",
       "1                          Y4  International     Mexico           Enplaned   \n",
       "2                          Y4  International     Mexico           Deplaned   \n",
       "3                          VS  International     Europe           Enplaned   \n",
       "4                          VS  International     Europe           Deplaned   \n",
       "\n",
       "  Price Category Code       Terminal Boarding Area  Passenger Count  \n",
       "0               Other  International             A             5179  \n",
       "1            Low Fare  International             A             2791  \n",
       "2            Low Fare  International             A             2111  \n",
       "3               Other  International             A            11359  \n",
       "4               Other  International             A            10645  "
      ]
     },
     "execution_count": 10,
     "metadata": {},
     "output_type": "execute_result"
    }
   ],
   "source": [
    "t = pd.read_csv('./data/Air_Traffic_Passenger_Statistics.csv')\n",
    "t.head()"
   ]
  },
  {
   "cell_type": "code",
   "execution_count": 11,
   "metadata": {
    "ExecuteTime": {
     "end_time": "2019-05-17T01:07:11.357188Z",
     "start_time": "2019-05-17T01:07:11.334242Z"
    }
   },
   "outputs": [
    {
     "data": {
      "text/html": [
       "<div>\n",
       "<style scoped>\n",
       "    .dataframe tbody tr th:only-of-type {\n",
       "        vertical-align: middle;\n",
       "    }\n",
       "\n",
       "    .dataframe tbody tr th {\n",
       "        vertical-align: top;\n",
       "    }\n",
       "\n",
       "    .dataframe thead th {\n",
       "        text-align: right;\n",
       "    }\n",
       "</style>\n",
       "<table border=\"1\" class=\"dataframe\">\n",
       "  <thead>\n",
       "    <tr style=\"text-align: right;\">\n",
       "      <th></th>\n",
       "      <th>Activity Period</th>\n",
       "      <th>Operating Airline</th>\n",
       "      <th>Operating Airline IATA Code</th>\n",
       "      <th>Published Airline</th>\n",
       "      <th>Published Airline IATA Code</th>\n",
       "      <th>GEO Summary</th>\n",
       "      <th>GEO Region</th>\n",
       "      <th>Activity Type Code</th>\n",
       "      <th>Price Category Code</th>\n",
       "      <th>Terminal</th>\n",
       "      <th>Boarding Area</th>\n",
       "      <th>Passenger Count</th>\n",
       "    </tr>\n",
       "  </thead>\n",
       "  <tbody>\n",
       "    <tr>\n",
       "      <th>0</th>\n",
       "      <td>201812</td>\n",
       "      <td>ABC Aerolineas S.A. de C.V. dba Interjet</td>\n",
       "      <td>4O</td>\n",
       "      <td>ABC Aerolineas S.A. de C.V. dba Interjet</td>\n",
       "      <td>4O</td>\n",
       "      <td>International</td>\n",
       "      <td>Mexico</td>\n",
       "      <td>Deplaned</td>\n",
       "      <td>Other</td>\n",
       "      <td>International</td>\n",
       "      <td>A</td>\n",
       "      <td>5179</td>\n",
       "    </tr>\n",
       "    <tr>\n",
       "      <th>2</th>\n",
       "      <td>201812</td>\n",
       "      <td>Volaris Airlines</td>\n",
       "      <td>Y4</td>\n",
       "      <td>Volaris Airlines</td>\n",
       "      <td>Y4</td>\n",
       "      <td>International</td>\n",
       "      <td>Mexico</td>\n",
       "      <td>Deplaned</td>\n",
       "      <td>Low Fare</td>\n",
       "      <td>International</td>\n",
       "      <td>A</td>\n",
       "      <td>2111</td>\n",
       "    </tr>\n",
       "    <tr>\n",
       "      <th>4</th>\n",
       "      <td>201812</td>\n",
       "      <td>Virgin Atlantic</td>\n",
       "      <td>VS</td>\n",
       "      <td>Virgin Atlantic</td>\n",
       "      <td>VS</td>\n",
       "      <td>International</td>\n",
       "      <td>Europe</td>\n",
       "      <td>Deplaned</td>\n",
       "      <td>Other</td>\n",
       "      <td>International</td>\n",
       "      <td>A</td>\n",
       "      <td>10645</td>\n",
       "    </tr>\n",
       "    <tr>\n",
       "      <th>6</th>\n",
       "      <td>201812</td>\n",
       "      <td>United Airlines</td>\n",
       "      <td>UA</td>\n",
       "      <td>United Airlines</td>\n",
       "      <td>UA</td>\n",
       "      <td>International</td>\n",
       "      <td>Middle East</td>\n",
       "      <td>Deplaned</td>\n",
       "      <td>Other</td>\n",
       "      <td>International</td>\n",
       "      <td>G</td>\n",
       "      <td>6353</td>\n",
       "    </tr>\n",
       "    <tr>\n",
       "      <th>10</th>\n",
       "      <td>201812</td>\n",
       "      <td>United Airlines</td>\n",
       "      <td>UA</td>\n",
       "      <td>United Airlines</td>\n",
       "      <td>UA</td>\n",
       "      <td>International</td>\n",
       "      <td>Mexico</td>\n",
       "      <td>Deplaned</td>\n",
       "      <td>Other</td>\n",
       "      <td>International</td>\n",
       "      <td>G</td>\n",
       "      <td>30085</td>\n",
       "    </tr>\n",
       "  </tbody>\n",
       "</table>\n",
       "</div>"
      ],
      "text/plain": [
       "    Activity Period                         Operating Airline  \\\n",
       "0            201812  ABC Aerolineas S.A. de C.V. dba Interjet   \n",
       "2            201812                          Volaris Airlines   \n",
       "4            201812                           Virgin Atlantic   \n",
       "6            201812                           United Airlines   \n",
       "10           201812                           United Airlines   \n",
       "\n",
       "   Operating Airline IATA Code                         Published Airline  \\\n",
       "0                           4O  ABC Aerolineas S.A. de C.V. dba Interjet   \n",
       "2                           Y4                          Volaris Airlines   \n",
       "4                           VS                           Virgin Atlantic   \n",
       "6                           UA                           United Airlines   \n",
       "10                          UA                           United Airlines   \n",
       "\n",
       "   Published Airline IATA Code    GEO Summary   GEO Region Activity Type Code  \\\n",
       "0                           4O  International       Mexico           Deplaned   \n",
       "2                           Y4  International       Mexico           Deplaned   \n",
       "4                           VS  International       Europe           Deplaned   \n",
       "6                           UA  International  Middle East           Deplaned   \n",
       "10                          UA  International       Mexico           Deplaned   \n",
       "\n",
       "   Price Category Code       Terminal Boarding Area  Passenger Count  \n",
       "0                Other  International             A             5179  \n",
       "2             Low Fare  International             A             2111  \n",
       "4                Other  International             A            10645  \n",
       "6                Other  International             G             6353  \n",
       "10               Other  International             G            30085  "
      ]
     },
     "execution_count": 11,
     "metadata": {},
     "output_type": "execute_result"
    }
   ],
   "source": [
    "inter_e = t[(t['Terminal']=='International') & (t['Activity Period']>201800) &(t['Activity Type Code']=='Enplaned')]\n",
    "inter_e.head()\n",
    "\n",
    "inter_d = t[(t['Terminal']=='International') & (t['Activity Period']>201800) &(t['Activity Type Code']=='Deplaned')]\n",
    "inter_d.head()\n",
    "\n"
   ]
  },
  {
   "cell_type": "code",
   "execution_count": 12,
   "metadata": {
    "ExecuteTime": {
     "end_time": "2019-05-17T01:09:20.177093Z",
     "start_time": "2019-05-17T01:09:19.802519Z"
    }
   },
   "outputs": [
    {
     "name": "stderr",
     "output_type": "stream",
     "text": [
      "/Users/ziyuanhan/anaconda3/lib/python3.6/site-packages/ipykernel_launcher.py:3: SettingWithCopyWarning: \n",
      "A value is trying to be set on a copy of a slice from a DataFrame.\n",
      "Try using .loc[row_indexer,col_indexer] = value instead\n",
      "\n",
      "See the caveats in the documentation: http://pandas.pydata.org/pandas-docs/stable/indexing.html#indexing-view-versus-copy\n",
      "  This is separate from the ipykernel package so we can avoid doing imports until\n",
      "/Users/ziyuanhan/anaconda3/lib/python3.6/site-packages/ipykernel_launcher.py:4: SettingWithCopyWarning: \n",
      "A value is trying to be set on a copy of a slice from a DataFrame.\n",
      "Try using .loc[row_indexer,col_indexer] = value instead\n",
      "\n",
      "See the caveats in the documentation: http://pandas.pydata.org/pandas-docs/stable/indexing.html#indexing-view-versus-copy\n",
      "  after removing the cwd from sys.path.\n",
      "/Users/ziyuanhan/anaconda3/lib/python3.6/site-packages/ipykernel_launcher.py:16: SettingWithCopyWarning: \n",
      "A value is trying to be set on a copy of a slice from a DataFrame.\n",
      "Try using .loc[row_indexer,col_indexer] = value instead\n",
      "\n",
      "See the caveats in the documentation: http://pandas.pydata.org/pandas-docs/stable/indexing.html#indexing-view-versus-copy\n",
      "  app.launch_new_instance()\n",
      "/Users/ziyuanhan/anaconda3/lib/python3.6/site-packages/ipykernel_launcher.py:18: SettingWithCopyWarning: \n",
      "A value is trying to be set on a copy of a slice from a DataFrame.\n",
      "Try using .loc[row_indexer,col_indexer] = value instead\n",
      "\n",
      "See the caveats in the documentation: http://pandas.pydata.org/pandas-docs/stable/indexing.html#indexing-view-versus-copy\n"
     ]
    },
    {
     "data": {
      "text/html": [
       "<div>\n",
       "<style scoped>\n",
       "    .dataframe tbody tr th:only-of-type {\n",
       "        vertical-align: middle;\n",
       "    }\n",
       "\n",
       "    .dataframe tbody tr th {\n",
       "        vertical-align: top;\n",
       "    }\n",
       "\n",
       "    .dataframe thead th {\n",
       "        text-align: right;\n",
       "    }\n",
       "</style>\n",
       "<table border=\"1\" class=\"dataframe\">\n",
       "  <thead>\n",
       "    <tr style=\"text-align: right;\">\n",
       "      <th></th>\n",
       "      <th>GEO Region</th>\n",
       "      <th>sum</th>\n",
       "    </tr>\n",
       "  </thead>\n",
       "  <tbody>\n",
       "    <tr>\n",
       "      <th>0</th>\n",
       "      <td>Asia</td>\n",
       "      <td>5558517</td>\n",
       "    </tr>\n",
       "    <tr>\n",
       "      <th>1</th>\n",
       "      <td>Australia / Oceania</td>\n",
       "      <td>750051</td>\n",
       "    </tr>\n",
       "    <tr>\n",
       "      <th>2</th>\n",
       "      <td>Canada</td>\n",
       "      <td>1287654</td>\n",
       "    </tr>\n",
       "    <tr>\n",
       "      <th>3</th>\n",
       "      <td>Central America</td>\n",
       "      <td>377726</td>\n",
       "    </tr>\n",
       "    <tr>\n",
       "      <th>4</th>\n",
       "      <td>Europe</td>\n",
       "      <td>3954546</td>\n",
       "    </tr>\n",
       "  </tbody>\n",
       "</table>\n",
       "</div>"
      ],
      "text/plain": [
       "            GEO Region      sum\n",
       "0                 Asia  5558517\n",
       "1  Australia / Oceania   750051\n",
       "2               Canada  1287654\n",
       "3      Central America   377726\n",
       "4               Europe  3954546"
      ]
     },
     "execution_count": 12,
     "metadata": {},
     "output_type": "execute_result"
    }
   ],
   "source": [
    "from datetime import datetime\n",
    "inter.reset_index(inplace=True, drop=True)\n",
    "inter_e['Activity Period'] = pd.to_datetime(inter_e['Activity Period'], format='%Y%m')\n",
    "inter_d['Activity Period'] = pd.to_datetime(inter_d['Activity Period'], format='%Y%m')\n",
    "\n",
    "\n",
    "passenger_by_airline_e = inter.groupby(['GEO Region']).agg(['sum'])['Passenger Count'].reset_index()\n",
    "passenger_by_airline_e.head()\n",
    "\n",
    "passenger_by_airline_d = inter.groupby(['GEO Region']).agg(['sum'])['Passenger Count'].reset_index()\n",
    "passenger_by_airline_d.head()\n",
    "\n",
    "\n",
    "\n",
    "inter_e.reset_index(inplace=True, drop=True)\n",
    "inter_e['Activity Period'] = pd.to_datetime(inter_e['Activity Period'], format='%Y%m')\n",
    "inter_d.reset_index(inplace=True, drop=True)\n",
    "inter_d['Activity Period'] = pd.to_datetime(inter_d['Activity Period'], format='%Y%m')\n",
    "\n",
    "passenger_by_airline_e = inter.groupby(['GEO Region']).agg(['sum'])['Passenger Count'].reset_index()\n",
    "passenger_by_airline_e.head()\n",
    "\n",
    "passenger_by_airline_d = inter.groupby(['GEO Region']).agg(['sum'])['Passenger Count'].reset_index()\n",
    "passenger_by_airline_d.head()\n"
   ]
  },
  {
   "cell_type": "code",
   "execution_count": 13,
   "metadata": {
    "ExecuteTime": {
     "end_time": "2019-05-17T01:09:34.778695Z",
     "start_time": "2019-05-17T01:09:34.773633Z"
    }
   },
   "outputs": [
    {
     "data": {
      "text/plain": [
       "['GEO Region', 'sum']"
      ]
     },
     "execution_count": 13,
     "metadata": {},
     "output_type": "execute_result"
    }
   ],
   "source": [
    "sorted(passenger_by_airline_e, key = lambda x: x[1])\n",
    "sorted(passenger_by_airline_d, key = lambda x: x[1])"
   ]
  },
  {
   "cell_type": "code",
   "execution_count": 14,
   "metadata": {
    "ExecuteTime": {
     "end_time": "2019-05-17T01:10:16.378544Z",
     "start_time": "2019-05-17T01:10:16.371248Z"
    }
   },
   "outputs": [],
   "source": [
    "end_e = passenger_by_airline.sort_values(by=['sum'], ascending=False)\n",
    "end_e = end_e[end_e['GEO Region']!= 'US']\n",
    "\n",
    "end_d = passenger_by_airline.sort_values(by=['sum'], ascending=False)\n",
    "end_d = end_d[end_d['GEO Region']!= 'US']"
   ]
  },
  {
   "cell_type": "code",
   "execution_count": 22,
   "metadata": {
    "ExecuteTime": {
     "end_time": "2019-05-17T01:14:12.990245Z",
     "start_time": "2019-05-17T01:14:12.039858Z"
    }
   },
   "outputs": [
    {
     "data": {
      "image/png": "[encoded data removed]",
      "text/plain": [
       "<Figure size 1728x1008 with 1 Axes>"
      ]
     },
     "metadata": {
      "needs_background": "light"
     },
     "output_type": "display_data"
    }
   ],
   "source": [
    "import matplotlib.pyplot as plt\n",
    "from matplotlib.ticker import FuncFormatter\n",
    "\n",
    "\n",
    "x = np.arange(7)\n",
    "t = end_e['GEO Region']\n",
    "s = end_e['sum']\n",
    "s2 = end_d['sum']\n",
    "\n",
    "def millions(x, pos):\n",
    "    'The two args are the value and tick position'\n",
    "    return \"{:,}\".format(int(x))\n",
    "\n",
    "formatter = FuncFormatter(millions)\n",
    "\n",
    "fig, ax = plt.subplots(figsize=(24,14))\n",
    "ax.yaxis.set_major_formatter(formatter)\n",
    "plt.title(\"2018 SFO international terminal flight origin by total passenger number\", fontsize=30)\n",
    "plt.xlabel(\"region\", horizontalalignment='right', x=1.0, y = 10, fontsize=25);\n",
    "plt.ylabel(\"total passenger number\", fontsize=25);\n",
    "ax.tick_params(labelsize=20)\n",
    "plt.bar(x, s)\n",
    "plt.bar(x, s,bottom=s2)\n",
    "plt.xticks(x, t)\n",
    "plt.savefig('./plots/stack.png')\n",
    "plt.show()"
   ]
  },
  {
   "cell_type": "code",
   "execution_count": null,
   "metadata": {},
   "outputs": [],
   "source": [
    "from datetime import datetime\n",
    "t['Activity Period'] = t['Activity Period'].apply(lambda x: int(x))\n",
    "\n",
    "asia = t[t['GEO Region']=='Asia']\n",
    "s = asia.groupby(['Activity Period']).agg(['sum'])['Passenger Count'].reset_index()\n",
    "s.head()"
   ]
  },
  {
   "cell_type": "code",
   "execution_count": null,
   "metadata": {},
   "outputs": [],
   "source": [
    "from matplotlib.ticker import FuncFormatter\n",
    "def millions(x, pos):\n",
    "    'The two args are the value and tick position'\n",
    "    return \"{:,}\".format(int(x))\n",
    "\n",
    "formatter = FuncFormatter(millions)"
   ]
  },
  {
   "cell_type": "code",
   "execution_count": 20,
   "metadata": {
    "ExecuteTime": {
     "end_time": "2019-05-17T01:13:47.851703Z",
     "start_time": "2019-05-17T01:13:47.684470Z"
    }
   },
   "outputs": [
    {
     "data": {
      "image/png": "[encoded data removed]",
      "text/plain": [
       "<Figure size 432x288 with 1 Axes>"
      ]
     },
     "metadata": {
      "needs_background": "light"
     },
     "output_type": "display_data"
    }
   ],
   "source": [
    "N = 5\n",
    "menMeans = (20, 35, 30, 35, 27)\n",
    "womenMeans = (25, 32, 34, 20, 25)\n",
    "menStd = (2, 3, 4, 1, 2)\n",
    "womenStd = (3, 5, 2, 3, 3)\n",
    "ind = np.arange(N)    # the x locations for the groups\n",
    "width = 0.35       # the width of the bars: can also be len(x) sequence\n",
    "\n",
    "p1 = plt.bar(ind, menMeans)\n",
    "p2 = plt.bar(ind, womenMeans,\n",
    "             bottom=menMeans)\n",
    "\n",
    "plt.ylabel('Scores')\n",
    "plt.title('Scores by group and gender')\n",
    "plt.xticks(ind, ('G1', 'G2', 'G3', 'G4', 'G5'))\n",
    "plt.yticks(np.arange(0, 81, 10))\n",
    "plt.legend((p1[0], p2[0]), ('Men', 'Women'))\n",
    "\n",
    "plt.show()"
   ]
  },
  {
   "cell_type": "code",
   "execution_count": null,
   "metadata": {},
   "outputs": [],
   "source": []
  }
 ],
 "metadata": {
  "kernelspec": {
   "display_name": "Python 3",
   "language": "python",
   "name": "python3"
  },
  "language_info": {
   "codemirror_mode": {
    "name": "ipython",
    "version": 3
   },
   "file_extension": ".py",
   "mimetype": "text/x-python",
   "name": "python",
   "nbconvert_exporter": "python",
   "pygments_lexer": "ipython3",
   "version": "3.6.8"
  },
  "toc": {
   "base_numbering": 1,
   "nav_menu": {},
   "number_sections": true,
   "sideBar": true,
   "skip_h1_title": false,
   "title_cell": "Table of Contents",
   "title_sidebar": "Contents",
   "toc_cell": false,
   "toc_position": {},
   "toc_section_display": true,
   "toc_window_display": false
  },
  "varInspector": {
   "cols": {
    "lenName": 16,
    "lenType": 16,
    "lenVar": 40
   },
   "kernels_config": {
    "python": {
     "delete_cmd_postfix": "",
     "delete_cmd_prefix": "del ",
     "library": "var_list.py",
     "varRefreshCmd": "print(var_dic_list())"
    },
    "r": {
     "delete_cmd_postfix": ") ",
     "delete_cmd_prefix": "rm(",
     "library": "var_list.r",
     "varRefreshCmd": "cat(var_dic_list()) "
    }
   },
   "types_to_exclude": [
    "module",
    "function",
    "builtin_function_or_method",
    "instance",
    "_Feature"
   ],
   "window_display": false
  }
 },
 "nbformat": 4,
 "nbformat_minor": 2
}

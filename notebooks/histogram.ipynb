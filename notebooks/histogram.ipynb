{
 "cells": [
  {
   "cell_type": "code",
   "execution_count": 1,
   "metadata": {
    "ExecuteTime": {
     "end_time": "2019-05-16T21:08:01.569275Z",
     "start_time": "2019-05-16T21:08:01.007434Z"
    }
   },
   "outputs": [],
   "source": [
    "import numpy as np\n",
    "import pandas as pd"
   ]
  },
  {
   "cell_type": "code",
   "execution_count": 2,
   "metadata": {
    "ExecuteTime": {
     "end_time": "2019-05-16T21:08:02.041770Z",
     "start_time": "2019-05-16T21:08:01.963584Z"
    }
   },
   "outputs": [
    {
     "data": {
      "text/html": [
       "<div>\n",
       "<style scoped>\n",
       "    .dataframe tbody tr th:only-of-type {\n",
       "        vertical-align: middle;\n",
       "    }\n",
       "\n",
       "    .dataframe tbody tr th {\n",
       "        vertical-align: top;\n",
       "    }\n",
       "\n",
       "    .dataframe thead th {\n",
       "        text-align: right;\n",
       "    }\n",
       "</style>\n",
       "<table border=\"1\" class=\"dataframe\">\n",
       "  <thead>\n",
       "    <tr style=\"text-align: right;\">\n",
       "      <th></th>\n",
       "      <th>Activity Period</th>\n",
       "      <th>Operating Airline</th>\n",
       "      <th>Operating Airline IATA Code</th>\n",
       "      <th>Published Airline</th>\n",
       "      <th>Published Airline IATA Code</th>\n",
       "      <th>GEO Summary</th>\n",
       "      <th>GEO Region</th>\n",
       "      <th>Activity Type Code</th>\n",
       "      <th>Price Category Code</th>\n",
       "      <th>Terminal</th>\n",
       "      <th>Boarding Area</th>\n",
       "      <th>Passenger Count</th>\n",
       "    </tr>\n",
       "  </thead>\n",
       "  <tbody>\n",
       "    <tr>\n",
       "      <th>0</th>\n",
       "      <td>201812</td>\n",
       "      <td>ABC Aerolineas S.A. de C.V. dba Interjet</td>\n",
       "      <td>4O</td>\n",
       "      <td>ABC Aerolineas S.A. de C.V. dba Interjet</td>\n",
       "      <td>4O</td>\n",
       "      <td>International</td>\n",
       "      <td>Mexico</td>\n",
       "      <td>Deplaned</td>\n",
       "      <td>Other</td>\n",
       "      <td>International</td>\n",
       "      <td>A</td>\n",
       "      <td>5179</td>\n",
       "    </tr>\n",
       "    <tr>\n",
       "      <th>1</th>\n",
       "      <td>201812</td>\n",
       "      <td>Volaris Airlines</td>\n",
       "      <td>Y4</td>\n",
       "      <td>Volaris Airlines</td>\n",
       "      <td>Y4</td>\n",
       "      <td>International</td>\n",
       "      <td>Mexico</td>\n",
       "      <td>Enplaned</td>\n",
       "      <td>Low Fare</td>\n",
       "      <td>International</td>\n",
       "      <td>A</td>\n",
       "      <td>2791</td>\n",
       "    </tr>\n",
       "    <tr>\n",
       "      <th>2</th>\n",
       "      <td>201812</td>\n",
       "      <td>Volaris Airlines</td>\n",
       "      <td>Y4</td>\n",
       "      <td>Volaris Airlines</td>\n",
       "      <td>Y4</td>\n",
       "      <td>International</td>\n",
       "      <td>Mexico</td>\n",
       "      <td>Deplaned</td>\n",
       "      <td>Low Fare</td>\n",
       "      <td>International</td>\n",
       "      <td>A</td>\n",
       "      <td>2111</td>\n",
       "    </tr>\n",
       "    <tr>\n",
       "      <th>3</th>\n",
       "      <td>201812</td>\n",
       "      <td>Virgin Atlantic</td>\n",
       "      <td>VS</td>\n",
       "      <td>Virgin Atlantic</td>\n",
       "      <td>VS</td>\n",
       "      <td>International</td>\n",
       "      <td>Europe</td>\n",
       "      <td>Enplaned</td>\n",
       "      <td>Other</td>\n",
       "      <td>International</td>\n",
       "      <td>A</td>\n",
       "      <td>11359</td>\n",
       "    </tr>\n",
       "    <tr>\n",
       "      <th>4</th>\n",
       "      <td>201812</td>\n",
       "      <td>Virgin Atlantic</td>\n",
       "      <td>VS</td>\n",
       "      <td>Virgin Atlantic</td>\n",
       "      <td>VS</td>\n",
       "      <td>International</td>\n",
       "      <td>Europe</td>\n",
       "      <td>Deplaned</td>\n",
       "      <td>Other</td>\n",
       "      <td>International</td>\n",
       "      <td>A</td>\n",
       "      <td>10645</td>\n",
       "    </tr>\n",
       "  </tbody>\n",
       "</table>\n",
       "</div>"
      ],
      "text/plain": [
       "   Activity Period                         Operating Airline  \\\n",
       "0           201812  ABC Aerolineas S.A. de C.V. dba Interjet   \n",
       "1           201812                          Volaris Airlines   \n",
       "2           201812                          Volaris Airlines   \n",
       "3           201812                           Virgin Atlantic   \n",
       "4           201812                           Virgin Atlantic   \n",
       "\n",
       "  Operating Airline IATA Code                         Published Airline  \\\n",
       "0                          4O  ABC Aerolineas S.A. de C.V. dba Interjet   \n",
       "1                          Y4                          Volaris Airlines   \n",
       "2                          Y4                          Volaris Airlines   \n",
       "3                          VS                           Virgin Atlantic   \n",
       "4                          VS                           Virgin Atlantic   \n",
       "\n",
       "  Published Airline IATA Code    GEO Summary GEO Region Activity Type Code  \\\n",
       "0                          4O  International     Mexico           Deplaned   \n",
       "1                          Y4  International     Mexico           Enplaned   \n",
       "2                          Y4  International     Mexico           Deplaned   \n",
       "3                          VS  International     Europe           Enplaned   \n",
       "4                          VS  International     Europe           Deplaned   \n",
       "\n",
       "  Price Category Code       Terminal Boarding Area  Passenger Count  \n",
       "0               Other  International             A             5179  \n",
       "1            Low Fare  International             A             2791  \n",
       "2            Low Fare  International             A             2111  \n",
       "3               Other  International             A            11359  \n",
       "4               Other  International             A            10645  "
      ]
     },
     "execution_count": 2,
     "metadata": {},
     "output_type": "execute_result"
    }
   ],
   "source": [
    "t = pd.read_csv('./data/Air_Traffic_Passenger_Statistics.csv')\n",
    "t.head()"
   ]
  },
  {
   "cell_type": "code",
   "execution_count": 4,
   "metadata": {
    "ExecuteTime": {
     "end_time": "2019-05-16T22:32:26.940028Z",
     "start_time": "2019-05-16T22:32:26.140094Z"
    }
   },
   "outputs": [
    {
     "ename": "NameError",
     "evalue": "name 'passen' is not defined",
     "output_type": "error",
     "traceback": [
      "\u001b[0;31m---------------------------------------------------------------------------\u001b[0m",
      "\u001b[0;31mNameError\u001b[0m                                 Traceback (most recent call last)",
      "\u001b[0;32m<ipython-input-4-34ad66d7878a>\u001b[0m in \u001b[0;36m<module>\u001b[0;34m\u001b[0m\n\u001b[1;32m      1\u001b[0m \u001b[0;31m# a few key questions to answer\u001b[0m\u001b[0;34m\u001b[0m\u001b[0;34m\u001b[0m\u001b[0;34m\u001b[0m\u001b[0m\n\u001b[0;32m----> 2\u001b[0;31m \u001b[0mpassen\u001b[0m\u001b[0;34m\u001b[0m\u001b[0;34m\u001b[0m\u001b[0m\n\u001b[0m",
      "\u001b[0;31mNameError\u001b[0m: name 'passen' is not defined"
     ]
    }
   ],
   "source": [
    "# a few key questions to answer\n",
    "passen"
   ]
  },
  {
   "cell_type": "code",
   "execution_count": 6,
   "metadata": {
    "ExecuteTime": {
     "end_time": "2019-05-16T22:53:59.937860Z",
     "start_time": "2019-05-16T22:53:59.068499Z"
    }
   },
   "outputs": [
    {
     "data": {
      "image/png": "[encoded data removed]",
      "text/plain": [
       "<Figure size 1440x864 with 1 Axes>"
      ]
     },
     "metadata": {
      "needs_background": "light"
     },
     "output_type": "display_data"
    }
   ],
   "source": [
    "import numpy as np\n",
    "import matplotlib.pyplot as plt\n",
    "passen = t[t['Activity Period']>201800].groupby(['Operating Airline']).agg(['sum'])['Passenger Count'].reset_index()\n",
    "passen['sum'] = passen['sum'].apply(lambda x: np.log10(x))\n",
    "passen\n",
    "# plt.subplots(figsize=(20,12))\n",
    "passen.hist(bins=20, figsize=(20,12),xlabelsize=20, ylabelsize=20)\n",
    "plt.title('Distribution of total number of passengers for all airlines in 2018', fontsize=30);\n",
    "plt.xlabel(\"power of 10\", horizontalalignment='right', x=1.0, y = 10, fontsize=25);\n",
    "plt.ylabel(\"count\", fontsize=25);\n",
    "plt.savefig('hist.png')"
   ]
  },
  {
   "cell_type": "code",
   "execution_count": 4,
   "metadata": {
    "ExecuteTime": {
     "end_time": "2019-05-09T20:04:04.537151Z",
     "start_time": "2019-05-09T20:04:04.524580Z"
    }
   },
   "outputs": [
    {
     "data": {
      "text/plain": [
       "array(['Deplaned', 'Enplaned', 'Thru / Transit'], dtype=object)"
      ]
     },
     "execution_count": 4,
     "metadata": {},
     "output_type": "execute_result"
    }
   ],
   "source": [
    "t['Activity Type Code'].unique()"
   ]
  },
  {
   "cell_type": "code",
   "execution_count": 36,
   "metadata": {
    "ExecuteTime": {
     "end_time": "2019-05-09T20:56:14.306941Z",
     "start_time": "2019-05-09T20:56:14.304722Z"
    }
   },
   "outputs": [],
   "source": [
    "# pass_time = t[t['Activity Period'] > 201800].groupby(['Activity Period']).agg(['sum'])['Passenger Count'].reset_index()\n",
    "# from datetime import datetime\n",
    "# # inter.reset_index(inplace=True, drop=True)\n",
    "# pass_time['Activity Period'] = pd.to_datetime(pass_time['Activity Period'] , format='%Y%m')\n",
    "# pass_time.hist(bins=12);"
   ]
  },
  {
   "cell_type": "code",
   "execution_count": 14,
   "metadata": {
    "ExecuteTime": {
     "end_time": "2019-05-09T20:11:44.318164Z",
     "start_time": "2019-05-09T20:11:44.309857Z"
    }
   },
   "outputs": [
    {
     "data": {
      "text/html": [
       "<div>\n",
       "<style scoped>\n",
       "    .dataframe tbody tr th:only-of-type {\n",
       "        vertical-align: middle;\n",
       "    }\n",
       "\n",
       "    .dataframe tbody tr th {\n",
       "        vertical-align: top;\n",
       "    }\n",
       "\n",
       "    .dataframe thead th {\n",
       "        text-align: right;\n",
       "    }\n",
       "</style>\n",
       "<table border=\"1\" class=\"dataframe\">\n",
       "  <thead>\n",
       "    <tr style=\"text-align: right;\">\n",
       "      <th></th>\n",
       "      <th>Activity Period</th>\n",
       "      <th>sum</th>\n",
       "    </tr>\n",
       "  </thead>\n",
       "  <tbody>\n",
       "    <tr>\n",
       "      <th>0</th>\n",
       "      <td>2018-01-01</td>\n",
       "      <td>4190367</td>\n",
       "    </tr>\n",
       "    <tr>\n",
       "      <th>1</th>\n",
       "      <td>2018-02-01</td>\n",
       "      <td>3882181</td>\n",
       "    </tr>\n",
       "    <tr>\n",
       "      <th>2</th>\n",
       "      <td>2018-03-01</td>\n",
       "      <td>4674035</td>\n",
       "    </tr>\n",
       "    <tr>\n",
       "      <th>3</th>\n",
       "      <td>2018-04-01</td>\n",
       "      <td>4713183</td>\n",
       "    </tr>\n",
       "    <tr>\n",
       "      <th>4</th>\n",
       "      <td>2018-05-01</td>\n",
       "      <td>5025595</td>\n",
       "    </tr>\n",
       "    <tr>\n",
       "      <th>5</th>\n",
       "      <td>2018-06-01</td>\n",
       "      <td>5427144</td>\n",
       "    </tr>\n",
       "    <tr>\n",
       "      <th>6</th>\n",
       "      <td>2018-07-01</td>\n",
       "      <td>5692572</td>\n",
       "    </tr>\n",
       "    <tr>\n",
       "      <th>7</th>\n",
       "      <td>2018-08-01</td>\n",
       "      <td>5545859</td>\n",
       "    </tr>\n",
       "    <tr>\n",
       "      <th>8</th>\n",
       "      <td>2018-09-01</td>\n",
       "      <td>4649100</td>\n",
       "    </tr>\n",
       "    <tr>\n",
       "      <th>9</th>\n",
       "      <td>2018-10-01</td>\n",
       "      <td>4861782</td>\n",
       "    </tr>\n",
       "    <tr>\n",
       "      <th>10</th>\n",
       "      <td>2018-11-01</td>\n",
       "      <td>4508606</td>\n",
       "    </tr>\n",
       "    <tr>\n",
       "      <th>11</th>\n",
       "      <td>2018-12-01</td>\n",
       "      <td>4576449</td>\n",
       "    </tr>\n",
       "  </tbody>\n",
       "</table>\n",
       "</div>"
      ],
      "text/plain": [
       "   Activity Period      sum\n",
       "0       2018-01-01  4190367\n",
       "1       2018-02-01  3882181\n",
       "2       2018-03-01  4674035\n",
       "3       2018-04-01  4713183\n",
       "4       2018-05-01  5025595\n",
       "5       2018-06-01  5427144\n",
       "6       2018-07-01  5692572\n",
       "7       2018-08-01  5545859\n",
       "8       2018-09-01  4649100\n",
       "9       2018-10-01  4861782\n",
       "10      2018-11-01  4508606\n",
       "11      2018-12-01  4576449"
      ]
     },
     "execution_count": 14,
     "metadata": {},
     "output_type": "execute_result"
    }
   ],
   "source": [
    "pass_time"
   ]
  },
  {
   "cell_type": "code",
   "execution_count": null,
   "metadata": {},
   "outputs": [],
   "source": []
  }
 ],
 "metadata": {
  "kernelspec": {
   "display_name": "Python 3",
   "language": "python",
   "name": "python3"
  },
  "language_info": {
   "codemirror_mode": {
    "name": "ipython",
    "version": 3
   },
   "file_extension": ".py",
   "mimetype": "text/x-python",
   "name": "python",
   "nbconvert_exporter": "python",
   "pygments_lexer": "ipython3",
   "version": "3.6.8"
  },
  "toc": {
   "base_numbering": 1,
   "nav_menu": {},
   "number_sections": true,
   "sideBar": true,
   "skip_h1_title": false,
   "title_cell": "Table of Contents",
   "title_sidebar": "Contents",
   "toc_cell": false,
   "toc_position": {},
   "toc_section_display": true,
   "toc_window_display": false
  },
  "varInspector": {
   "cols": {
    "lenName": 16,
    "lenType": 16,
    "lenVar": 40
   },
   "kernels_config": {
    "python": {
     "delete_cmd_postfix": "",
     "delete_cmd_prefix": "del ",
     "library": "var_list.py",
     "varRefreshCmd": "print(var_dic_list())"
    },
    "r": {
     "delete_cmd_postfix": ") ",
     "delete_cmd_prefix": "rm(",
     "library": "var_list.r",
     "varRefreshCmd": "cat(var_dic_list()) "
    }
   },
   "types_to_exclude": [
    "module",
    "function",
    "builtin_function_or_method",
    "instance",
    "_Feature"
   ],
   "window_display": false
  }
 },
 "nbformat": 4,
 "nbformat_minor": 2
}

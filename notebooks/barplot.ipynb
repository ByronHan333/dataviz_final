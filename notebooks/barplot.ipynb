{
 "cells": [
  {
   "cell_type": "code",
   "execution_count": 7,
   "metadata": {
    "ExecuteTime": {
     "end_time": "2019-05-16T22:34:55.756554Z",
     "start_time": "2019-05-16T22:34:55.444392Z"
    }
   },
   "outputs": [],
   "source": [
    "import pandas as pd\n",
    "import numpy as np\n",
    "import matplotlib.pyplot as plt\n",
    "from matplotlib import animation"
   ]
  },
  {
   "cell_type": "code",
   "execution_count": 8,
   "metadata": {
    "ExecuteTime": {
     "end_time": "2019-05-16T22:34:55.845782Z",
     "start_time": "2019-05-16T22:34:55.766562Z"
    }
   },
   "outputs": [
    {
     "data": {
      "text/html": [
       "<div>\n",
       "<style scoped>\n",
       "    .dataframe tbody tr th:only-of-type {\n",
       "        vertical-align: middle;\n",
       "    }\n",
       "\n",
       "    .dataframe tbody tr th {\n",
       "        vertical-align: top;\n",
       "    }\n",
       "\n",
       "    .dataframe thead th {\n",
       "        text-align: right;\n",
       "    }\n",
       "</style>\n",
       "<table border=\"1\" class=\"dataframe\">\n",
       "  <thead>\n",
       "    <tr style=\"text-align: right;\">\n",
       "      <th></th>\n",
       "      <th>Activity Period</th>\n",
       "      <th>Operating Airline</th>\n",
       "      <th>Operating Airline IATA Code</th>\n",
       "      <th>Published Airline</th>\n",
       "      <th>Published Airline IATA Code</th>\n",
       "      <th>GEO Summary</th>\n",
       "      <th>GEO Region</th>\n",
       "      <th>Activity Type Code</th>\n",
       "      <th>Price Category Code</th>\n",
       "      <th>Terminal</th>\n",
       "      <th>Boarding Area</th>\n",
       "      <th>Passenger Count</th>\n",
       "    </tr>\n",
       "  </thead>\n",
       "  <tbody>\n",
       "    <tr>\n",
       "      <th>0</th>\n",
       "      <td>201812</td>\n",
       "      <td>ABC Aerolineas S.A. de C.V. dba Interjet</td>\n",
       "      <td>4O</td>\n",
       "      <td>ABC Aerolineas S.A. de C.V. dba Interjet</td>\n",
       "      <td>4O</td>\n",
       "      <td>International</td>\n",
       "      <td>Mexico</td>\n",
       "      <td>Deplaned</td>\n",
       "      <td>Other</td>\n",
       "      <td>International</td>\n",
       "      <td>A</td>\n",
       "      <td>5179</td>\n",
       "    </tr>\n",
       "    <tr>\n",
       "      <th>1</th>\n",
       "      <td>201812</td>\n",
       "      <td>Volaris Airlines</td>\n",
       "      <td>Y4</td>\n",
       "      <td>Volaris Airlines</td>\n",
       "      <td>Y4</td>\n",
       "      <td>International</td>\n",
       "      <td>Mexico</td>\n",
       "      <td>Enplaned</td>\n",
       "      <td>Low Fare</td>\n",
       "      <td>International</td>\n",
       "      <td>A</td>\n",
       "      <td>2791</td>\n",
       "    </tr>\n",
       "    <tr>\n",
       "      <th>2</th>\n",
       "      <td>201812</td>\n",
       "      <td>Volaris Airlines</td>\n",
       "      <td>Y4</td>\n",
       "      <td>Volaris Airlines</td>\n",
       "      <td>Y4</td>\n",
       "      <td>International</td>\n",
       "      <td>Mexico</td>\n",
       "      <td>Deplaned</td>\n",
       "      <td>Low Fare</td>\n",
       "      <td>International</td>\n",
       "      <td>A</td>\n",
       "      <td>2111</td>\n",
       "    </tr>\n",
       "    <tr>\n",
       "      <th>3</th>\n",
       "      <td>201812</td>\n",
       "      <td>Virgin Atlantic</td>\n",
       "      <td>VS</td>\n",
       "      <td>Virgin Atlantic</td>\n",
       "      <td>VS</td>\n",
       "      <td>International</td>\n",
       "      <td>Europe</td>\n",
       "      <td>Enplaned</td>\n",
       "      <td>Other</td>\n",
       "      <td>International</td>\n",
       "      <td>A</td>\n",
       "      <td>11359</td>\n",
       "    </tr>\n",
       "    <tr>\n",
       "      <th>4</th>\n",
       "      <td>201812</td>\n",
       "      <td>Virgin Atlantic</td>\n",
       "      <td>VS</td>\n",
       "      <td>Virgin Atlantic</td>\n",
       "      <td>VS</td>\n",
       "      <td>International</td>\n",
       "      <td>Europe</td>\n",
       "      <td>Deplaned</td>\n",
       "      <td>Other</td>\n",
       "      <td>International</td>\n",
       "      <td>A</td>\n",
       "      <td>10645</td>\n",
       "    </tr>\n",
       "  </tbody>\n",
       "</table>\n",
       "</div>"
      ],
      "text/plain": [
       "   Activity Period                         Operating Airline  \\\n",
       "0           201812  ABC Aerolineas S.A. de C.V. dba Interjet   \n",
       "1           201812                          Volaris Airlines   \n",
       "2           201812                          Volaris Airlines   \n",
       "3           201812                           Virgin Atlantic   \n",
       "4           201812                           Virgin Atlantic   \n",
       "\n",
       "  Operating Airline IATA Code                         Published Airline  \\\n",
       "0                          4O  ABC Aerolineas S.A. de C.V. dba Interjet   \n",
       "1                          Y4                          Volaris Airlines   \n",
       "2                          Y4                          Volaris Airlines   \n",
       "3                          VS                           Virgin Atlantic   \n",
       "4                          VS                           Virgin Atlantic   \n",
       "\n",
       "  Published Airline IATA Code    GEO Summary GEO Region Activity Type Code  \\\n",
       "0                          4O  International     Mexico           Deplaned   \n",
       "1                          Y4  International     Mexico           Enplaned   \n",
       "2                          Y4  International     Mexico           Deplaned   \n",
       "3                          VS  International     Europe           Enplaned   \n",
       "4                          VS  International     Europe           Deplaned   \n",
       "\n",
       "  Price Category Code       Terminal Boarding Area  Passenger Count  \n",
       "0               Other  International             A             5179  \n",
       "1            Low Fare  International             A             2791  \n",
       "2            Low Fare  International             A             2111  \n",
       "3               Other  International             A            11359  \n",
       "4               Other  International             A            10645  "
      ]
     },
     "execution_count": 8,
     "metadata": {},
     "output_type": "execute_result"
    }
   ],
   "source": [
    "t = pd.read_csv('./data/Air_Traffic_Passenger_Statistics.csv')\n",
    "t.head()"
   ]
  },
  {
   "cell_type": "code",
   "execution_count": 9,
   "metadata": {
    "ExecuteTime": {
     "end_time": "2019-05-16T22:34:55.875820Z",
     "start_time": "2019-05-16T22:34:55.870816Z"
    }
   },
   "outputs": [
    {
     "data": {
      "text/plain": [
       "array(['International', 'Terminal 3', 'Terminal 1', 'Terminal 2', 'Other'],\n",
       "      dtype=object)"
      ]
     },
     "execution_count": 9,
     "metadata": {},
     "output_type": "execute_result"
    }
   ],
   "source": [
    "t['Terminal'].unique()"
   ]
  },
  {
   "cell_type": "code",
   "execution_count": 10,
   "metadata": {
    "ExecuteTime": {
     "end_time": "2019-05-16T22:34:55.949901Z",
     "start_time": "2019-05-16T22:34:55.944687Z"
    }
   },
   "outputs": [
    {
     "data": {
      "text/plain": [
       "array(['Other', 'Low Fare'], dtype=object)"
      ]
     },
     "execution_count": 10,
     "metadata": {},
     "output_type": "execute_result"
    }
   ],
   "source": [
    "t['Price Category Code'].unique()"
   ]
  },
  {
   "cell_type": "code",
   "execution_count": 11,
   "metadata": {
    "ExecuteTime": {
     "end_time": "2019-05-16T22:34:56.108829Z",
     "start_time": "2019-05-16T22:34:56.102606Z"
    }
   },
   "outputs": [
    {
     "data": {
      "text/plain": [
       "array(['Mexico', 'Europe', 'Middle East', 'Canada', 'Australia / Oceania',\n",
       "       'Asia', 'US', 'Central America', 'South America'], dtype=object)"
      ]
     },
     "execution_count": 11,
     "metadata": {},
     "output_type": "execute_result"
    }
   ],
   "source": [
    "t['GEO Region'].unique()"
   ]
  },
  {
   "cell_type": "code",
   "execution_count": 12,
   "metadata": {
    "ExecuteTime": {
     "end_time": "2019-05-16T22:34:56.266465Z",
     "start_time": "2019-05-16T22:34:56.261170Z"
    }
   },
   "outputs": [
    {
     "data": {
      "text/plain": [
       "array(['International', 'Domestic'], dtype=object)"
      ]
     },
     "execution_count": 12,
     "metadata": {},
     "output_type": "execute_result"
    }
   ],
   "source": [
    "t['GEO Summary'].unique()"
   ]
  },
  {
   "cell_type": "code",
   "execution_count": 13,
   "metadata": {
    "ExecuteTime": {
     "end_time": "2019-05-16T22:34:56.475974Z",
     "start_time": "2019-05-16T22:34:56.470322Z"
    }
   },
   "outputs": [
    {
     "data": {
      "text/plain": [
       "array([201812, 201811, 201810, 201809, 201808, 201807, 201806, 201805,\n",
       "       201804, 201803, 201802, 201801, 201712, 201711, 201710, 201709,\n",
       "       201708, 201707, 201706, 201705, 201704, 201703, 201702, 201701,\n",
       "       201612, 201611, 201610, 201609, 201608, 201607, 201606, 201605,\n",
       "       201604, 201603, 201602, 201601, 201512, 201511, 201510, 201509,\n",
       "       201508, 201507, 201506, 201505, 201504, 201503, 201502, 201501,\n",
       "       201412, 201411, 201410, 201409, 201408, 201407, 201406, 201405,\n",
       "       201404, 201403, 201402, 201401, 201312, 201311, 201310, 201309,\n",
       "       201308, 201307, 201306, 201305, 201304, 201303, 201302, 201301,\n",
       "       201212, 201211, 201210, 201209, 201208, 201207, 201206, 201205,\n",
       "       201204, 201203, 201202, 201201, 201112, 201111, 201110, 201109,\n",
       "       201108, 201107, 201106, 201105, 201104, 201103, 201102, 201101,\n",
       "       201012, 201011, 201010, 201009, 201008, 201007, 201006, 201005,\n",
       "       201004, 201003, 201002, 201001, 200912, 200911, 200910, 200909,\n",
       "       200908, 200907, 200906, 200905, 200904, 200903, 200902, 200901,\n",
       "       200812, 200811, 200810, 200809, 200808, 200807, 200806, 200805,\n",
       "       200804, 200803, 200802, 200801, 200712, 200711, 200710, 200709,\n",
       "       200708, 200707, 200706, 200705, 200704, 200703, 200702, 200701,\n",
       "       200612, 200611, 200610, 200609, 200608, 200607, 200606, 200605,\n",
       "       200604, 200603, 200602, 200601, 200512, 200511, 200510, 200509,\n",
       "       200508, 200507])"
      ]
     },
     "execution_count": 13,
     "metadata": {},
     "output_type": "execute_result"
    }
   ],
   "source": [
    "t['Activity Period'].unique()"
   ]
  },
  {
   "cell_type": "code",
   "execution_count": 14,
   "metadata": {
    "ExecuteTime": {
     "end_time": "2019-05-16T22:34:56.809004Z",
     "start_time": "2019-05-16T22:34:56.782187Z"
    }
   },
   "outputs": [
    {
     "data": {
      "text/html": [
       "<div>\n",
       "<style scoped>\n",
       "    .dataframe tbody tr th:only-of-type {\n",
       "        vertical-align: middle;\n",
       "    }\n",
       "\n",
       "    .dataframe tbody tr th {\n",
       "        vertical-align: top;\n",
       "    }\n",
       "\n",
       "    .dataframe thead th {\n",
       "        text-align: right;\n",
       "    }\n",
       "</style>\n",
       "<table border=\"1\" class=\"dataframe\">\n",
       "  <thead>\n",
       "    <tr style=\"text-align: right;\">\n",
       "      <th></th>\n",
       "      <th>Activity Period</th>\n",
       "      <th>Operating Airline</th>\n",
       "      <th>Operating Airline IATA Code</th>\n",
       "      <th>Published Airline</th>\n",
       "      <th>Published Airline IATA Code</th>\n",
       "      <th>GEO Summary</th>\n",
       "      <th>GEO Region</th>\n",
       "      <th>Activity Type Code</th>\n",
       "      <th>Price Category Code</th>\n",
       "      <th>Terminal</th>\n",
       "      <th>Boarding Area</th>\n",
       "      <th>Passenger Count</th>\n",
       "    </tr>\n",
       "  </thead>\n",
       "  <tbody>\n",
       "    <tr>\n",
       "      <th>0</th>\n",
       "      <td>201812</td>\n",
       "      <td>ABC Aerolineas S.A. de C.V. dba Interjet</td>\n",
       "      <td>4O</td>\n",
       "      <td>ABC Aerolineas S.A. de C.V. dba Interjet</td>\n",
       "      <td>4O</td>\n",
       "      <td>International</td>\n",
       "      <td>Mexico</td>\n",
       "      <td>Deplaned</td>\n",
       "      <td>Other</td>\n",
       "      <td>International</td>\n",
       "      <td>A</td>\n",
       "      <td>5179</td>\n",
       "    </tr>\n",
       "    <tr>\n",
       "      <th>1</th>\n",
       "      <td>201812</td>\n",
       "      <td>Volaris Airlines</td>\n",
       "      <td>Y4</td>\n",
       "      <td>Volaris Airlines</td>\n",
       "      <td>Y4</td>\n",
       "      <td>International</td>\n",
       "      <td>Mexico</td>\n",
       "      <td>Enplaned</td>\n",
       "      <td>Low Fare</td>\n",
       "      <td>International</td>\n",
       "      <td>A</td>\n",
       "      <td>2791</td>\n",
       "    </tr>\n",
       "    <tr>\n",
       "      <th>2</th>\n",
       "      <td>201812</td>\n",
       "      <td>Volaris Airlines</td>\n",
       "      <td>Y4</td>\n",
       "      <td>Volaris Airlines</td>\n",
       "      <td>Y4</td>\n",
       "      <td>International</td>\n",
       "      <td>Mexico</td>\n",
       "      <td>Deplaned</td>\n",
       "      <td>Low Fare</td>\n",
       "      <td>International</td>\n",
       "      <td>A</td>\n",
       "      <td>2111</td>\n",
       "    </tr>\n",
       "    <tr>\n",
       "      <th>3</th>\n",
       "      <td>201812</td>\n",
       "      <td>Virgin Atlantic</td>\n",
       "      <td>VS</td>\n",
       "      <td>Virgin Atlantic</td>\n",
       "      <td>VS</td>\n",
       "      <td>International</td>\n",
       "      <td>Europe</td>\n",
       "      <td>Enplaned</td>\n",
       "      <td>Other</td>\n",
       "      <td>International</td>\n",
       "      <td>A</td>\n",
       "      <td>11359</td>\n",
       "    </tr>\n",
       "    <tr>\n",
       "      <th>4</th>\n",
       "      <td>201812</td>\n",
       "      <td>Virgin Atlantic</td>\n",
       "      <td>VS</td>\n",
       "      <td>Virgin Atlantic</td>\n",
       "      <td>VS</td>\n",
       "      <td>International</td>\n",
       "      <td>Europe</td>\n",
       "      <td>Deplaned</td>\n",
       "      <td>Other</td>\n",
       "      <td>International</td>\n",
       "      <td>A</td>\n",
       "      <td>10645</td>\n",
       "    </tr>\n",
       "  </tbody>\n",
       "</table>\n",
       "</div>"
      ],
      "text/plain": [
       "   Activity Period                         Operating Airline  \\\n",
       "0           201812  ABC Aerolineas S.A. de C.V. dba Interjet   \n",
       "1           201812                          Volaris Airlines   \n",
       "2           201812                          Volaris Airlines   \n",
       "3           201812                           Virgin Atlantic   \n",
       "4           201812                           Virgin Atlantic   \n",
       "\n",
       "  Operating Airline IATA Code                         Published Airline  \\\n",
       "0                          4O  ABC Aerolineas S.A. de C.V. dba Interjet   \n",
       "1                          Y4                          Volaris Airlines   \n",
       "2                          Y4                          Volaris Airlines   \n",
       "3                          VS                           Virgin Atlantic   \n",
       "4                          VS                           Virgin Atlantic   \n",
       "\n",
       "  Published Airline IATA Code    GEO Summary GEO Region Activity Type Code  \\\n",
       "0                          4O  International     Mexico           Deplaned   \n",
       "1                          Y4  International     Mexico           Enplaned   \n",
       "2                          Y4  International     Mexico           Deplaned   \n",
       "3                          VS  International     Europe           Enplaned   \n",
       "4                          VS  International     Europe           Deplaned   \n",
       "\n",
       "  Price Category Code       Terminal Boarding Area  Passenger Count  \n",
       "0               Other  International             A             5179  \n",
       "1            Low Fare  International             A             2791  \n",
       "2            Low Fare  International             A             2111  \n",
       "3               Other  International             A            11359  \n",
       "4               Other  International             A            10645  "
      ]
     },
     "execution_count": 14,
     "metadata": {},
     "output_type": "execute_result"
    }
   ],
   "source": [
    "# in 2018, international terminal\n",
    "inter = t[(t['Terminal']=='International') & (t['Activity Period']>201800)]\n",
    "inter.head()"
   ]
  },
  {
   "cell_type": "code",
   "execution_count": 15,
   "metadata": {
    "ExecuteTime": {
     "end_time": "2019-05-16T22:34:57.541525Z",
     "start_time": "2019-05-16T22:34:57.493255Z"
    }
   },
   "outputs": [
    {
     "name": "stderr",
     "output_type": "stream",
     "text": [
      "/Users/ziyuanhan/anaconda3/lib/python3.6/site-packages/ipykernel_launcher.py:3: SettingWithCopyWarning: \n",
      "A value is trying to be set on a copy of a slice from a DataFrame.\n",
      "Try using .loc[row_indexer,col_indexer] = value instead\n",
      "\n",
      "See the caveats in the documentation: http://pandas.pydata.org/pandas-docs/stable/indexing.html#indexing-view-versus-copy\n",
      "  This is separate from the ipykernel package so we can avoid doing imports until\n"
     ]
    }
   ],
   "source": [
    "from datetime import datetime\n",
    "inter.reset_index(inplace=True, drop=True)\n",
    "inter['Activity Period'] = pd.to_datetime(inter['Activity Period'], format='%Y%m')"
   ]
  },
  {
   "cell_type": "code",
   "execution_count": 16,
   "metadata": {
    "ExecuteTime": {
     "end_time": "2019-05-16T22:34:57.980661Z",
     "start_time": "2019-05-16T22:34:57.960914Z"
    }
   },
   "outputs": [
    {
     "data": {
      "text/html": [
       "<div>\n",
       "<style scoped>\n",
       "    .dataframe tbody tr th:only-of-type {\n",
       "        vertical-align: middle;\n",
       "    }\n",
       "\n",
       "    .dataframe tbody tr th {\n",
       "        vertical-align: top;\n",
       "    }\n",
       "\n",
       "    .dataframe thead th {\n",
       "        text-align: right;\n",
       "    }\n",
       "</style>\n",
       "<table border=\"1\" class=\"dataframe\">\n",
       "  <thead>\n",
       "    <tr style=\"text-align: right;\">\n",
       "      <th></th>\n",
       "      <th>Activity Period</th>\n",
       "      <th>Operating Airline</th>\n",
       "      <th>Operating Airline IATA Code</th>\n",
       "      <th>Published Airline</th>\n",
       "      <th>Published Airline IATA Code</th>\n",
       "      <th>GEO Summary</th>\n",
       "      <th>GEO Region</th>\n",
       "      <th>Activity Type Code</th>\n",
       "      <th>Price Category Code</th>\n",
       "      <th>Terminal</th>\n",
       "      <th>Boarding Area</th>\n",
       "      <th>Passenger Count</th>\n",
       "    </tr>\n",
       "  </thead>\n",
       "  <tbody>\n",
       "    <tr>\n",
       "      <th>0</th>\n",
       "      <td>2018-12-01</td>\n",
       "      <td>ABC Aerolineas S.A. de C.V. dba Interjet</td>\n",
       "      <td>4O</td>\n",
       "      <td>ABC Aerolineas S.A. de C.V. dba Interjet</td>\n",
       "      <td>4O</td>\n",
       "      <td>International</td>\n",
       "      <td>Mexico</td>\n",
       "      <td>Deplaned</td>\n",
       "      <td>Other</td>\n",
       "      <td>International</td>\n",
       "      <td>A</td>\n",
       "      <td>5179</td>\n",
       "    </tr>\n",
       "    <tr>\n",
       "      <th>1</th>\n",
       "      <td>2018-12-01</td>\n",
       "      <td>Volaris Airlines</td>\n",
       "      <td>Y4</td>\n",
       "      <td>Volaris Airlines</td>\n",
       "      <td>Y4</td>\n",
       "      <td>International</td>\n",
       "      <td>Mexico</td>\n",
       "      <td>Enplaned</td>\n",
       "      <td>Low Fare</td>\n",
       "      <td>International</td>\n",
       "      <td>A</td>\n",
       "      <td>2791</td>\n",
       "    </tr>\n",
       "    <tr>\n",
       "      <th>2</th>\n",
       "      <td>2018-12-01</td>\n",
       "      <td>Volaris Airlines</td>\n",
       "      <td>Y4</td>\n",
       "      <td>Volaris Airlines</td>\n",
       "      <td>Y4</td>\n",
       "      <td>International</td>\n",
       "      <td>Mexico</td>\n",
       "      <td>Deplaned</td>\n",
       "      <td>Low Fare</td>\n",
       "      <td>International</td>\n",
       "      <td>A</td>\n",
       "      <td>2111</td>\n",
       "    </tr>\n",
       "    <tr>\n",
       "      <th>3</th>\n",
       "      <td>2018-12-01</td>\n",
       "      <td>Virgin Atlantic</td>\n",
       "      <td>VS</td>\n",
       "      <td>Virgin Atlantic</td>\n",
       "      <td>VS</td>\n",
       "      <td>International</td>\n",
       "      <td>Europe</td>\n",
       "      <td>Enplaned</td>\n",
       "      <td>Other</td>\n",
       "      <td>International</td>\n",
       "      <td>A</td>\n",
       "      <td>11359</td>\n",
       "    </tr>\n",
       "    <tr>\n",
       "      <th>4</th>\n",
       "      <td>2018-12-01</td>\n",
       "      <td>Virgin Atlantic</td>\n",
       "      <td>VS</td>\n",
       "      <td>Virgin Atlantic</td>\n",
       "      <td>VS</td>\n",
       "      <td>International</td>\n",
       "      <td>Europe</td>\n",
       "      <td>Deplaned</td>\n",
       "      <td>Other</td>\n",
       "      <td>International</td>\n",
       "      <td>A</td>\n",
       "      <td>10645</td>\n",
       "    </tr>\n",
       "  </tbody>\n",
       "</table>\n",
       "</div>"
      ],
      "text/plain": [
       "  Activity Period                         Operating Airline  \\\n",
       "0      2018-12-01  ABC Aerolineas S.A. de C.V. dba Interjet   \n",
       "1      2018-12-01                          Volaris Airlines   \n",
       "2      2018-12-01                          Volaris Airlines   \n",
       "3      2018-12-01                           Virgin Atlantic   \n",
       "4      2018-12-01                           Virgin Atlantic   \n",
       "\n",
       "  Operating Airline IATA Code                         Published Airline  \\\n",
       "0                          4O  ABC Aerolineas S.A. de C.V. dba Interjet   \n",
       "1                          Y4                          Volaris Airlines   \n",
       "2                          Y4                          Volaris Airlines   \n",
       "3                          VS                           Virgin Atlantic   \n",
       "4                          VS                           Virgin Atlantic   \n",
       "\n",
       "  Published Airline IATA Code    GEO Summary GEO Region Activity Type Code  \\\n",
       "0                          4O  International     Mexico           Deplaned   \n",
       "1                          Y4  International     Mexico           Enplaned   \n",
       "2                          Y4  International     Mexico           Deplaned   \n",
       "3                          VS  International     Europe           Enplaned   \n",
       "4                          VS  International     Europe           Deplaned   \n",
       "\n",
       "  Price Category Code       Terminal Boarding Area  Passenger Count  \n",
       "0               Other  International             A             5179  \n",
       "1            Low Fare  International             A             2791  \n",
       "2            Low Fare  International             A             2111  \n",
       "3               Other  International             A            11359  \n",
       "4               Other  International             A            10645  "
      ]
     },
     "execution_count": 16,
     "metadata": {},
     "output_type": "execute_result"
    }
   ],
   "source": [
    "inter.head()"
   ]
  },
  {
   "cell_type": "code",
   "execution_count": 17,
   "metadata": {
    "ExecuteTime": {
     "end_time": "2019-05-16T22:34:59.272905Z",
     "start_time": "2019-05-16T22:34:59.202199Z"
    }
   },
   "outputs": [
    {
     "data": {
      "text/html": [
       "<div>\n",
       "<style scoped>\n",
       "    .dataframe tbody tr th:only-of-type {\n",
       "        vertical-align: middle;\n",
       "    }\n",
       "\n",
       "    .dataframe tbody tr th {\n",
       "        vertical-align: top;\n",
       "    }\n",
       "\n",
       "    .dataframe thead th {\n",
       "        text-align: right;\n",
       "    }\n",
       "</style>\n",
       "<table border=\"1\" class=\"dataframe\">\n",
       "  <thead>\n",
       "    <tr style=\"text-align: right;\">\n",
       "      <th></th>\n",
       "      <th>GEO Region</th>\n",
       "      <th>sum</th>\n",
       "    </tr>\n",
       "  </thead>\n",
       "  <tbody>\n",
       "    <tr>\n",
       "      <th>0</th>\n",
       "      <td>Asia</td>\n",
       "      <td>5558517</td>\n",
       "    </tr>\n",
       "    <tr>\n",
       "      <th>1</th>\n",
       "      <td>Australia / Oceania</td>\n",
       "      <td>750051</td>\n",
       "    </tr>\n",
       "    <tr>\n",
       "      <th>2</th>\n",
       "      <td>Canada</td>\n",
       "      <td>1287654</td>\n",
       "    </tr>\n",
       "    <tr>\n",
       "      <th>3</th>\n",
       "      <td>Central America</td>\n",
       "      <td>377726</td>\n",
       "    </tr>\n",
       "    <tr>\n",
       "      <th>4</th>\n",
       "      <td>Europe</td>\n",
       "      <td>3954546</td>\n",
       "    </tr>\n",
       "  </tbody>\n",
       "</table>\n",
       "</div>"
      ],
      "text/plain": [
       "            GEO Region      sum\n",
       "0                 Asia  5558517\n",
       "1  Australia / Oceania   750051\n",
       "2               Canada  1287654\n",
       "3      Central America   377726\n",
       "4               Europe  3954546"
      ]
     },
     "execution_count": 17,
     "metadata": {},
     "output_type": "execute_result"
    }
   ],
   "source": [
    "passenger_by_airline = inter.groupby(['GEO Region']).agg(['sum'])['Passenger Count'].reset_index()\n",
    "passenger_by_airline.head()"
   ]
  },
  {
   "cell_type": "code",
   "execution_count": 18,
   "metadata": {
    "ExecuteTime": {
     "end_time": "2019-05-16T22:34:59.766850Z",
     "start_time": "2019-05-16T22:34:59.762644Z"
    }
   },
   "outputs": [
    {
     "data": {
      "text/plain": [
       "['GEO Region', 'sum']"
      ]
     },
     "execution_count": 18,
     "metadata": {},
     "output_type": "execute_result"
    }
   ],
   "source": [
    "sorted(passenger_by_airline, key = lambda x: x[1])"
   ]
  },
  {
   "cell_type": "code",
   "execution_count": 19,
   "metadata": {
    "ExecuteTime": {
     "end_time": "2019-05-16T22:35:00.111977Z",
     "start_time": "2019-05-16T22:35:00.106441Z"
    }
   },
   "outputs": [],
   "source": [
    "end = passenger_by_airline.sort_values(by=['sum'], ascending=False)\n",
    "end = end[end['GEO Region']!= 'US']"
   ]
  },
  {
   "cell_type": "code",
   "execution_count": 20,
   "metadata": {
    "ExecuteTime": {
     "end_time": "2019-05-16T22:35:00.736145Z",
     "start_time": "2019-05-16T22:35:00.729094Z"
    }
   },
   "outputs": [
    {
     "data": {
      "text/html": [
       "<div>\n",
       "<style scoped>\n",
       "    .dataframe tbody tr th:only-of-type {\n",
       "        vertical-align: middle;\n",
       "    }\n",
       "\n",
       "    .dataframe tbody tr th {\n",
       "        vertical-align: top;\n",
       "    }\n",
       "\n",
       "    .dataframe thead th {\n",
       "        text-align: right;\n",
       "    }\n",
       "</style>\n",
       "<table border=\"1\" class=\"dataframe\">\n",
       "  <thead>\n",
       "    <tr style=\"text-align: right;\">\n",
       "      <th></th>\n",
       "      <th>GEO Region</th>\n",
       "      <th>sum</th>\n",
       "    </tr>\n",
       "  </thead>\n",
       "  <tbody>\n",
       "    <tr>\n",
       "      <th>0</th>\n",
       "      <td>Asia</td>\n",
       "      <td>5558517</td>\n",
       "    </tr>\n",
       "    <tr>\n",
       "      <th>4</th>\n",
       "      <td>Europe</td>\n",
       "      <td>3954546</td>\n",
       "    </tr>\n",
       "    <tr>\n",
       "      <th>2</th>\n",
       "      <td>Canada</td>\n",
       "      <td>1287654</td>\n",
       "    </tr>\n",
       "    <tr>\n",
       "      <th>5</th>\n",
       "      <td>Mexico</td>\n",
       "      <td>956748</td>\n",
       "    </tr>\n",
       "    <tr>\n",
       "      <th>1</th>\n",
       "      <td>Australia / Oceania</td>\n",
       "      <td>750051</td>\n",
       "    </tr>\n",
       "    <tr>\n",
       "      <th>6</th>\n",
       "      <td>Middle East</td>\n",
       "      <td>484219</td>\n",
       "    </tr>\n",
       "    <tr>\n",
       "      <th>3</th>\n",
       "      <td>Central America</td>\n",
       "      <td>377726</td>\n",
       "    </tr>\n",
       "  </tbody>\n",
       "</table>\n",
       "</div>"
      ],
      "text/plain": [
       "            GEO Region      sum\n",
       "0                 Asia  5558517\n",
       "4               Europe  3954546\n",
       "2               Canada  1287654\n",
       "5               Mexico   956748\n",
       "1  Australia / Oceania   750051\n",
       "6          Middle East   484219\n",
       "3      Central America   377726"
      ]
     },
     "execution_count": 20,
     "metadata": {},
     "output_type": "execute_result"
    }
   ],
   "source": [
    "end"
   ]
  },
  {
   "cell_type": "code",
   "execution_count": 25,
   "metadata": {
    "ExecuteTime": {
     "end_time": "2019-05-17T07:53:27.622166Z",
     "start_time": "2019-05-17T07:53:27.614786Z"
    }
   },
   "outputs": [
    {
     "data": {
      "text/html": [
       "<div>\n",
       "<style scoped>\n",
       "    .dataframe tbody tr th:only-of-type {\n",
       "        vertical-align: middle;\n",
       "    }\n",
       "\n",
       "    .dataframe tbody tr th {\n",
       "        vertical-align: top;\n",
       "    }\n",
       "\n",
       "    .dataframe thead th {\n",
       "        text-align: right;\n",
       "    }\n",
       "</style>\n",
       "<table border=\"1\" class=\"dataframe\">\n",
       "  <thead>\n",
       "    <tr style=\"text-align: right;\">\n",
       "      <th></th>\n",
       "      <th>GEO Region</th>\n",
       "      <th>sum</th>\n",
       "    </tr>\n",
       "  </thead>\n",
       "  <tbody>\n",
       "    <tr>\n",
       "      <th>0</th>\n",
       "      <td>Asia</td>\n",
       "      <td>5558517</td>\n",
       "    </tr>\n",
       "    <tr>\n",
       "      <th>4</th>\n",
       "      <td>Europe</td>\n",
       "      <td>3954546</td>\n",
       "    </tr>\n",
       "    <tr>\n",
       "      <th>2</th>\n",
       "      <td>Canada</td>\n",
       "      <td>1287654</td>\n",
       "    </tr>\n",
       "    <tr>\n",
       "      <th>5</th>\n",
       "      <td>Mexico</td>\n",
       "      <td>956748</td>\n",
       "    </tr>\n",
       "    <tr>\n",
       "      <th>1</th>\n",
       "      <td>Australia / Oceania</td>\n",
       "      <td>750051</td>\n",
       "    </tr>\n",
       "    <tr>\n",
       "      <th>6</th>\n",
       "      <td>Middle East</td>\n",
       "      <td>484219</td>\n",
       "    </tr>\n",
       "    <tr>\n",
       "      <th>3</th>\n",
       "      <td>Central America</td>\n",
       "      <td>377726</td>\n",
       "    </tr>\n",
       "  </tbody>\n",
       "</table>\n",
       "</div>"
      ],
      "text/plain": [
       "            GEO Region      sum\n",
       "0                 Asia  5558517\n",
       "4               Europe  3954546\n",
       "2               Canada  1287654\n",
       "5               Mexico   956748\n",
       "1  Australia / Oceania   750051\n",
       "6          Middle East   484219\n",
       "3      Central America   377726"
      ]
     },
     "execution_count": 25,
     "metadata": {},
     "output_type": "execute_result"
    }
   ],
   "source": [
    "end"
   ]
  },
  {
   "cell_type": "code",
   "execution_count": 28,
   "metadata": {
    "ExecuteTime": {
     "end_time": "2019-05-17T07:54:55.417823Z",
     "start_time": "2019-05-17T07:54:55.412046Z"
    }
   },
   "outputs": [
    {
     "data": {
      "text/plain": [
       "'Canada'"
      ]
     },
     "execution_count": 28,
     "metadata": {},
     "output_type": "execute_result"
    }
   ],
   "source": [
    "end.iloc[2]['GEO Region']"
   ]
  },
  {
   "cell_type": "code",
   "execution_count": 36,
   "metadata": {
    "ExecuteTime": {
     "end_time": "2019-05-17T16:25:58.025391Z",
     "start_time": "2019-05-17T16:25:57.963341Z"
    }
   },
   "outputs": [],
   "source": [
    "end.drop(index=2, axis=0).to_csv(\"choro.csv\",index=False)"
   ]
  },
  {
   "cell_type": "code",
   "execution_count": 30,
   "metadata": {
    "ExecuteTime": {
     "end_time": "2019-05-17T07:55:09.047472Z",
     "start_time": "2019-05-17T07:55:09.039490Z"
    }
   },
   "outputs": [
    {
     "data": {
      "text/html": [
       "<div>\n",
       "<style scoped>\n",
       "    .dataframe tbody tr th:only-of-type {\n",
       "        vertical-align: middle;\n",
       "    }\n",
       "\n",
       "    .dataframe tbody tr th {\n",
       "        vertical-align: top;\n",
       "    }\n",
       "\n",
       "    .dataframe thead th {\n",
       "        text-align: right;\n",
       "    }\n",
       "</style>\n",
       "<table border=\"1\" class=\"dataframe\">\n",
       "  <thead>\n",
       "    <tr style=\"text-align: right;\">\n",
       "      <th></th>\n",
       "      <th>GEO Region</th>\n",
       "      <th>sum</th>\n",
       "    </tr>\n",
       "  </thead>\n",
       "  <tbody>\n",
       "    <tr>\n",
       "      <th>0</th>\n",
       "      <td>Asia</td>\n",
       "      <td>5558517</td>\n",
       "    </tr>\n",
       "    <tr>\n",
       "      <th>4</th>\n",
       "      <td>Europe</td>\n",
       "      <td>3954546</td>\n",
       "    </tr>\n",
       "    <tr>\n",
       "      <th>2</th>\n",
       "      <td>Canada</td>\n",
       "      <td>1287654</td>\n",
       "    </tr>\n",
       "    <tr>\n",
       "      <th>5</th>\n",
       "      <td>Mexico</td>\n",
       "      <td>956748</td>\n",
       "    </tr>\n",
       "    <tr>\n",
       "      <th>1</th>\n",
       "      <td>Australia / Oceania</td>\n",
       "      <td>750051</td>\n",
       "    </tr>\n",
       "    <tr>\n",
       "      <th>6</th>\n",
       "      <td>Middle East</td>\n",
       "      <td>484219</td>\n",
       "    </tr>\n",
       "    <tr>\n",
       "      <th>3</th>\n",
       "      <td>Central America</td>\n",
       "      <td>377726</td>\n",
       "    </tr>\n",
       "  </tbody>\n",
       "</table>\n",
       "</div>"
      ],
      "text/plain": [
       "            GEO Region      sum\n",
       "0                 Asia  5558517\n",
       "4               Europe  3954546\n",
       "2               Canada  1287654\n",
       "5               Mexico   956748\n",
       "1  Australia / Oceania   750051\n",
       "6          Middle East   484219\n",
       "3      Central America   377726"
      ]
     },
     "execution_count": 30,
     "metadata": {},
     "output_type": "execute_result"
    }
   ],
   "source": [
    "end.rename({'Canada':'North America'}, axis=1)"
   ]
  },
  {
   "cell_type": "code",
   "execution_count": 22,
   "metadata": {
    "ExecuteTime": {
     "end_time": "2019-05-17T07:16:59.373909Z",
     "start_time": "2019-05-17T07:16:59.349151Z"
    }
   },
   "outputs": [],
   "source": [
    "end.to_csv(\"tree.csv\",index=False)"
   ]
  },
  {
   "cell_type": "code",
   "execution_count": 21,
   "metadata": {
    "ExecuteTime": {
     "end_time": "2019-05-16T22:35:02.272864Z",
     "start_time": "2019-05-16T22:35:01.386132Z"
    }
   },
   "outputs": [
    {
     "data": {
      "image/png": "[encoded data removed]",
      "text/plain": [
       "<Figure size 1728x1008 with 1 Axes>"
      ]
     },
     "metadata": {
      "needs_background": "light"
     },
     "output_type": "display_data"
    }
   ],
   "source": [
    "import matplotlib.pyplot as plt\n",
    "from matplotlib.ticker import FuncFormatter\n",
    "\n",
    "\n",
    "x = np.arange(7)\n",
    "t = end['GEO Region']\n",
    "s = end['sum']\n",
    "\n",
    "def millions(x, pos):\n",
    "    'The two args are the value and tick position'\n",
    "    return \"{:,}\".format(int(x))\n",
    "\n",
    "formatter = FuncFormatter(millions)\n",
    "\n",
    "fig, ax = plt.subplots(figsize=(24,14))\n",
    "ax.yaxis.set_major_formatter(formatter)\n",
    "plt.title(\"2018 SFO international terminal flight origin by total passenger number\", fontsize=30)\n",
    "plt.xlabel(\"region\", horizontalalignment='right', x=1.0, y = 10, fontsize=25);\n",
    "plt.ylabel(\"total passenger number\", fontsize=25);\n",
    "ax.tick_params(labelsize=20)\n",
    "plt.bar(x, s)\n",
    "plt.xticks(x, t)\n",
    "plt.savefig('bar.png')\n",
    "plt.show()\n"
   ]
  },
  {
   "cell_type": "code",
   "execution_count": null,
   "metadata": {},
   "outputs": [],
   "source": []
  }
 ],
 "metadata": {
  "kernelspec": {
   "display_name": "Python 3",
   "language": "python",
   "name": "python3"
  },
  "language_info": {
   "codemirror_mode": {
    "name": "ipython",
    "version": 3
   },
   "file_extension": ".py",
   "mimetype": "text/x-python",
   "name": "python",
   "nbconvert_exporter": "python",
   "pygments_lexer": "ipython3",
   "version": "3.6.8"
  },
  "toc": {
   "base_numbering": 1,
   "nav_menu": {},
   "number_sections": true,
   "sideBar": true,
   "skip_h1_title": false,
   "title_cell": "Table of Contents",
   "title_sidebar": "Contents",
   "toc_cell": false,
   "toc_position": {},
   "toc_section_display": true,
   "toc_window_display": false
  },
  "varInspector": {
   "cols": {
    "lenName": 16,
    "lenType": 16,
    "lenVar": 40
   },
   "kernels_config": {
    "python": {
     "delete_cmd_postfix": "",
     "delete_cmd_prefix": "del ",
     "library": "var_list.py",
     "varRefreshCmd": "print(var_dic_list())"
    },
    "r": {
     "delete_cmd_postfix": ") ",
     "delete_cmd_prefix": "rm(",
     "library": "var_list.r",
     "varRefreshCmd": "cat(var_dic_list()) "
    }
   },
   "types_to_exclude": [
    "module",
    "function",
    "builtin_function_or_method",
    "instance",
    "_Feature"
   ],
   "window_display": false
  }
 },
 "nbformat": 4,
 "nbformat_minor": 2
}
